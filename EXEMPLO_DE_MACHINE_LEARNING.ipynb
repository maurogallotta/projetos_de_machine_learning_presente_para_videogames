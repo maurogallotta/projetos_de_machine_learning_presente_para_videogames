{
 "cells": [
  {
   "cell_type": "markdown",
   "id": "d7934b4c",
   "metadata": {},
   "source": [
    "https://www.youtube.com/watch?v=QzP198FAGls"
   ]
  },
  {
   "cell_type": "code",
   "execution_count": null,
   "id": "a7660a5c",
   "metadata": {},
   "outputs": [],
   "source": [
    "from IPython.core.display import HTML"
   ]
  },
  {
   "cell_type": "code",
   "execution_count": null,
   "id": "0264b746",
   "metadata": {},
   "outputs": [],
   "source": [
    "HTML('<iframe width=\"560\" height=\"315\" src=\"https://www.youtube.com/embed/QzP198FAGls\" title=\"YouTube video player\" frameborder=\"0\" allow=\"accelerometer; autoplay; clipboard-write; encrypted-media; gyroscope; picture-in-picture\" allowfullscreen></iframe>')"
   ]
  },
  {
   "cell_type": "markdown",
   "id": "695c9971",
   "metadata": {},
   "source": [
    "# MACHINE LEARNING"
   ]
  },
  {
   "cell_type": "code",
   "execution_count": null,
   "id": "c57a6d8d",
   "metadata": {},
   "outputs": [],
   "source": [
    "'''\n",
    "# DESCRIÇÃO DAS COLUNAS\n",
    "coluna 1 = index dos elementos\n",
    "coluna 2 = genero (0 = mulher), (1 = homen)\n",
    "coluna 3 = anos de vida\n",
    "coluna 4 = tipo de game(ou previsão)\n",
    "print(giocatori)\n",
    "'''"
   ]
  },
  {
   "cell_type": "code",
   "execution_count": 1,
   "id": "85b2db63",
   "metadata": {},
   "outputs": [
    {
     "name": "stdout",
     "output_type": "stream",
     "text": [
      "['fantasy' 'sparatutto' 'combattimento']\n"
     ]
    }
   ],
   "source": [
    "# Caregar os Pacotes\n",
    "from pandas import read_csv\n",
    "from sklearn.tree import DecisionTreeClassifier\n",
    "# caregar o database (que precisa estar na mesma pasta)\n",
    "giocatori = read_csv('giocatori.csv')\n",
    "# print(giocatori)\n",
    "x = giocatori.drop(columns=['videogame'])\n",
    "y = giocatori['videogame']\n",
    "# modelo da utilizar\n",
    "modelo = DecisionTreeClassifier()\n",
    "# criação do modelo\n",
    "modelo.fit(x.values, y.values)\n",
    "# previsão do modelo(preencher os dados)\n",
    "previsione = modelo.predict([[0,30],[1,32],[1,10]])\n",
    "# imprimir a previsão\n",
    "print(previsione)"
   ]
  },
  {
   "cell_type": "code",
   "execution_count": 2,
   "id": "8f84a064",
   "metadata": {},
   "outputs": [
    {
     "name": "stdout",
     "output_type": "stream",
     "text": [
      "# packages in environment at C:\\Users\\Mauro\\anaconda3:\n",
      "#\n",
      "# Name                    Version                   Build  Channel\n",
      "\n",
      "Note: you may need to restart the kernel to use updated packages.\n"
     ]
    }
   ],
   "source": [
    "conda list sklearn\n"
   ]
  },
  {
   "cell_type": "code",
   "execution_count": null,
   "id": "19af7f8c",
   "metadata": {},
   "outputs": [],
   "source": []
  }
 ],
 "metadata": {
  "kernelspec": {
   "display_name": "Python 3",
   "language": "python",
   "name": "python3"
  },
  "language_info": {
   "codemirror_mode": {
    "name": "ipython",
    "version": 3
   },
   "file_extension": ".py",
   "mimetype": "text/x-python",
   "name": "python",
   "nbconvert_exporter": "python",
   "pygments_lexer": "ipython3",
   "version": "3.8.8"
  }
 },
 "nbformat": 4,
 "nbformat_minor": 5
}
