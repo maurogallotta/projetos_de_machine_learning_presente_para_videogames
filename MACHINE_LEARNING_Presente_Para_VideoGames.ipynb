{
 "cells": [
  {
   "cell_type": "markdown",
   "id": "695c9971",
   "metadata": {},
   "source": [
    "# MACHINE LEARNING"
   ]
  },
  {
   "cell_type": "markdown",
   "id": "31f1a671",
   "metadata": {},
   "source": [
    "### Versão Python usada para este trabalho 3.7.7 e superiores"
   ]
  },
  {
   "cell_type": "markdown",
   "id": "0f611b4e",
   "metadata": {},
   "source": [
    "##### Este projeto tem um database de 92488 jogadores e tem como objetivo de ajudar a escolher um tipo de games para dar de presente.\n",
    "\n",
    "##### Usando como parametro de comparação o (genero e idade) da pessoa que esta precisando dar o presente."
   ]
  },
  {
   "cell_type": "markdown",
   "id": "8cbdc72d",
   "metadata": {},
   "source": [
    "# DESCRIÇÃO DAS COLUNAS\n",
    "\n",
    "##### Coluna 1 = index dos elementos\n",
    "##### Coluna 2 = genero (0 = mulher), (1 = homen)\n",
    "##### Coluna 3 = anos de vida\n",
    "##### Coluna 4 = tipo de game(ou previsão)"
   ]
  },
  {
   "cell_type": "code",
   "execution_count": 4,
   "id": "85b2db63",
   "metadata": {},
   "outputs": [
    {
     "name": "stdout",
     "output_type": "stream",
     "text": [
      "['fantasy' 'sparatutto' 'combattimento']\n"
     ]
    }
   ],
   "source": [
    "# importar os Pacotes\n",
    "from pandas import read_csv\n",
    "\n",
    "# Importar Algoritomo de Classifiação\n",
    "from sklearn.tree import DecisionTreeClassifier\n",
    "\n",
    "# caregar o database (que precisa estar na mesma pasta do jupyter notebook)\n",
    "giocatori = read_csv('giocatori.csv')\n",
    "\n",
    "# no X estão todas as colunas menos a 'videogame' que foi eliminada\n",
    "x = giocatori.drop(columns=['videogame'])\n",
    "\n",
    "# no Y esta só a coluna 'videogame' que será o nosso alvo!\n",
    "y = giocatori['videogame']\n",
    "\n",
    "# modelo para classificaçao da utilizar\n",
    "modelo = DecisionTreeClassifier()\n",
    "\n",
    "# criação do modelo com caregamento dos valores\n",
    "modelo.fit(x.values, y.values)\n",
    "\n",
    "# As 3 previsões do modelo(preencher os dados) contendo respectivamente o genero e anos da pessoas que queser analizar\n",
    "previsione = modelo.predict([[0,30],[1,32],[1,10]])\n",
    "\n",
    "# Imprime as 3 Previsões\n",
    "print(previsione)"
   ]
  }
 ],
 "metadata": {
  "kernelspec": {
   "display_name": "Python 3",
   "language": "python",
   "name": "python3"
  },
  "language_info": {
   "codemirror_mode": {
    "name": "ipython",
    "version": 3
   },
   "file_extension": ".py",
   "mimetype": "text/x-python",
   "name": "python",
   "nbconvert_exporter": "python",
   "pygments_lexer": "ipython3",
   "version": "3.8.8"
  }
 },
 "nbformat": 4,
 "nbformat_minor": 5
}
